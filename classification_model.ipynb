{
  "nbformat": 4,
  "nbformat_minor": 0,
  "metadata": {
    "colab": {
      "name": "classification_model.ipynb",
      "provenance": [],
      "collapsed_sections": [],
      "authorship_tag": "ABX9TyMbMlX5YVnGvKnXuoKBf5c9",
      "include_colab_link": true
    },
    "kernelspec": {
      "name": "python3",
      "display_name": "Python 3"
    },
    "language_info": {
      "name": "python"
    }
  },
  "cells": [
    {
      "cell_type": "markdown",
      "metadata": {
        "id": "view-in-github",
        "colab_type": "text"
      },
      "source": [
        "<a href=\"https://colab.research.google.com/github/ramachandrasahu/machine-learning/blob/master/classification_model.ipynb\" target=\"_parent\"><img src=\"https://colab.research.google.com/assets/colab-badge.svg\" alt=\"Open In Colab\"/></a>"
      ]
    },
    {
      "cell_type": "code",
      "metadata": {
        "colab": {
          "base_uri": "https://localhost:8080/"
        },
        "id": "qh-NvaA2oK_v",
        "outputId": "5c8cd389-bdfd-4301-ac73-b2d0bbffc404"
      },
      "source": [
        "from google.colab import drive\n",
        "drive.mount('/content/gdrive')"
      ],
      "execution_count": 3,
      "outputs": [
        {
          "output_type": "stream",
          "text": [
            "Mounted at /content/gdrive\n"
          ],
          "name": "stdout"
        }
      ]
    },
    {
      "cell_type": "code",
      "metadata": {
        "id": "sWVzkrdQoOWX"
      },
      "source": [
        "#Importing Libraries\n",
        "import numpy as np\n",
        "import pandas as pd\n",
        "import matplotlib.pyplot as plt"
      ],
      "execution_count": 4,
      "outputs": []
    },
    {
      "cell_type": "code",
      "metadata": {
        "colab": {
          "base_uri": "https://localhost:8080/",
          "height": 669
        },
        "id": "WWKoMg7QobX_",
        "outputId": "6f51c377-0bcd-48c0-a298-e0c410524182"
      },
      "source": [
        "datasets=pd.read_csv('/content/gdrive/MyDrive/Social_Network_Ads.csv')\n",
        "datasets.head(20)"
      ],
      "execution_count": 6,
      "outputs": [
        {
          "output_type": "execute_result",
          "data": {
            "text/html": [
              "<div>\n",
              "<style scoped>\n",
              "    .dataframe tbody tr th:only-of-type {\n",
              "        vertical-align: middle;\n",
              "    }\n",
              "\n",
              "    .dataframe tbody tr th {\n",
              "        vertical-align: top;\n",
              "    }\n",
              "\n",
              "    .dataframe thead th {\n",
              "        text-align: right;\n",
              "    }\n",
              "</style>\n",
              "<table border=\"1\" class=\"dataframe\">\n",
              "  <thead>\n",
              "    <tr style=\"text-align: right;\">\n",
              "      <th></th>\n",
              "      <th>User ID</th>\n",
              "      <th>Gender</th>\n",
              "      <th>Age</th>\n",
              "      <th>EstimatedSalary</th>\n",
              "      <th>Purchased</th>\n",
              "    </tr>\n",
              "  </thead>\n",
              "  <tbody>\n",
              "    <tr>\n",
              "      <th>0</th>\n",
              "      <td>15624510</td>\n",
              "      <td>Male</td>\n",
              "      <td>19.0</td>\n",
              "      <td>19000.0</td>\n",
              "      <td>0</td>\n",
              "    </tr>\n",
              "    <tr>\n",
              "      <th>1</th>\n",
              "      <td>15810944</td>\n",
              "      <td>Male</td>\n",
              "      <td>35.0</td>\n",
              "      <td>20000.0</td>\n",
              "      <td>0</td>\n",
              "    </tr>\n",
              "    <tr>\n",
              "      <th>2</th>\n",
              "      <td>15668575</td>\n",
              "      <td>Female</td>\n",
              "      <td>26.0</td>\n",
              "      <td>43000.0</td>\n",
              "      <td>0</td>\n",
              "    </tr>\n",
              "    <tr>\n",
              "      <th>3</th>\n",
              "      <td>15603246</td>\n",
              "      <td>Female</td>\n",
              "      <td>27.0</td>\n",
              "      <td>57000.0</td>\n",
              "      <td>0</td>\n",
              "    </tr>\n",
              "    <tr>\n",
              "      <th>4</th>\n",
              "      <td>15804002</td>\n",
              "      <td>Male</td>\n",
              "      <td>19.0</td>\n",
              "      <td>76000.0</td>\n",
              "      <td>0</td>\n",
              "    </tr>\n",
              "    <tr>\n",
              "      <th>5</th>\n",
              "      <td>15728773</td>\n",
              "      <td>Male</td>\n",
              "      <td>27.0</td>\n",
              "      <td>58000.0</td>\n",
              "      <td>0</td>\n",
              "    </tr>\n",
              "    <tr>\n",
              "      <th>6</th>\n",
              "      <td>15598044</td>\n",
              "      <td>Female</td>\n",
              "      <td>27.0</td>\n",
              "      <td>84000.0</td>\n",
              "      <td>0</td>\n",
              "    </tr>\n",
              "    <tr>\n",
              "      <th>7</th>\n",
              "      <td>15694829</td>\n",
              "      <td>Female</td>\n",
              "      <td>32.0</td>\n",
              "      <td>150000.0</td>\n",
              "      <td>1</td>\n",
              "    </tr>\n",
              "    <tr>\n",
              "      <th>8</th>\n",
              "      <td>15600575</td>\n",
              "      <td>Male</td>\n",
              "      <td>25.0</td>\n",
              "      <td>33000.0</td>\n",
              "      <td>0</td>\n",
              "    </tr>\n",
              "    <tr>\n",
              "      <th>9</th>\n",
              "      <td>15727311</td>\n",
              "      <td>Female</td>\n",
              "      <td>35.0</td>\n",
              "      <td>65000.0</td>\n",
              "      <td>0</td>\n",
              "    </tr>\n",
              "    <tr>\n",
              "      <th>10</th>\n",
              "      <td>15570769</td>\n",
              "      <td>Female</td>\n",
              "      <td>26.0</td>\n",
              "      <td>80000.0</td>\n",
              "      <td>0</td>\n",
              "    </tr>\n",
              "    <tr>\n",
              "      <th>11</th>\n",
              "      <td>15606274</td>\n",
              "      <td>Female</td>\n",
              "      <td>26.0</td>\n",
              "      <td>52000.0</td>\n",
              "      <td>0</td>\n",
              "    </tr>\n",
              "    <tr>\n",
              "      <th>12</th>\n",
              "      <td>15746139</td>\n",
              "      <td>Male</td>\n",
              "      <td>20.0</td>\n",
              "      <td>86000.0</td>\n",
              "      <td>0</td>\n",
              "    </tr>\n",
              "    <tr>\n",
              "      <th>13</th>\n",
              "      <td>15704987</td>\n",
              "      <td>Male</td>\n",
              "      <td>32.0</td>\n",
              "      <td>18000.0</td>\n",
              "      <td>0</td>\n",
              "    </tr>\n",
              "    <tr>\n",
              "      <th>14</th>\n",
              "      <td>15628972</td>\n",
              "      <td>Male</td>\n",
              "      <td>18.0</td>\n",
              "      <td>82000.0</td>\n",
              "      <td>0</td>\n",
              "    </tr>\n",
              "    <tr>\n",
              "      <th>15</th>\n",
              "      <td>15697686</td>\n",
              "      <td>Male</td>\n",
              "      <td>29.0</td>\n",
              "      <td>80000.0</td>\n",
              "      <td>0</td>\n",
              "    </tr>\n",
              "    <tr>\n",
              "      <th>16</th>\n",
              "      <td>15733883</td>\n",
              "      <td>Male</td>\n",
              "      <td>47.0</td>\n",
              "      <td>25000.0</td>\n",
              "      <td>1</td>\n",
              "    </tr>\n",
              "    <tr>\n",
              "      <th>17</th>\n",
              "      <td>15617482</td>\n",
              "      <td>Male</td>\n",
              "      <td>45.0</td>\n",
              "      <td>26000.0</td>\n",
              "      <td>1</td>\n",
              "    </tr>\n",
              "    <tr>\n",
              "      <th>18</th>\n",
              "      <td>15704583</td>\n",
              "      <td>Male</td>\n",
              "      <td>46.0</td>\n",
              "      <td>28000.0</td>\n",
              "      <td>1</td>\n",
              "    </tr>\n",
              "    <tr>\n",
              "      <th>19</th>\n",
              "      <td>15621083</td>\n",
              "      <td>Female</td>\n",
              "      <td>48.0</td>\n",
              "      <td>29000.0</td>\n",
              "      <td>1</td>\n",
              "    </tr>\n",
              "  </tbody>\n",
              "</table>\n",
              "</div>"
            ],
            "text/plain": [
              "     User ID  Gender   Age  EstimatedSalary  Purchased\n",
              "0   15624510    Male  19.0          19000.0          0\n",
              "1   15810944    Male  35.0          20000.0          0\n",
              "2   15668575  Female  26.0          43000.0          0\n",
              "3   15603246  Female  27.0          57000.0          0\n",
              "4   15804002    Male  19.0          76000.0          0\n",
              "5   15728773    Male  27.0          58000.0          0\n",
              "6   15598044  Female  27.0          84000.0          0\n",
              "7   15694829  Female  32.0         150000.0          1\n",
              "8   15600575    Male  25.0          33000.0          0\n",
              "9   15727311  Female  35.0          65000.0          0\n",
              "10  15570769  Female  26.0          80000.0          0\n",
              "11  15606274  Female  26.0          52000.0          0\n",
              "12  15746139    Male  20.0          86000.0          0\n",
              "13  15704987    Male  32.0          18000.0          0\n",
              "14  15628972    Male  18.0          82000.0          0\n",
              "15  15697686    Male  29.0          80000.0          0\n",
              "16  15733883    Male  47.0          25000.0          1\n",
              "17  15617482    Male  45.0          26000.0          1\n",
              "18  15704583    Male  46.0          28000.0          1\n",
              "19  15621083  Female  48.0          29000.0          1"
            ]
          },
          "metadata": {
            "tags": []
          },
          "execution_count": 6
        }
      ]
    },
    {
      "cell_type": "code",
      "metadata": {
        "colab": {
          "base_uri": "https://localhost:8080/"
        },
        "id": "AEaPMxsFouEW",
        "outputId": "1f52a9e3-ec55-4d94-c864-9422864083c4"
      },
      "source": [
        "X=datasets.iloc[:,[2,3]].values\n",
        "y=datasets.iloc[:,4].values\n",
        "print(X[0:5,])\n",
        "print(y[0:5,])"
      ],
      "execution_count": 7,
      "outputs": [
        {
          "output_type": "stream",
          "text": [
            "[[1.9e+01 1.9e+04]\n",
            " [3.5e+01 2.0e+04]\n",
            " [2.6e+01 4.3e+04]\n",
            " [2.7e+01 5.7e+04]\n",
            " [1.9e+01 7.6e+04]]\n",
            "[0 0 0 0 0]\n"
          ],
          "name": "stdout"
        }
      ]
    },
    {
      "cell_type": "code",
      "metadata": {
        "colab": {
          "base_uri": "https://localhost:8080/"
        },
        "id": "pWmJxfCJo0pL",
        "outputId": "c7b22a22-da6d-4502-e043-d8079ef9229b"
      },
      "source": [
        "#Split dataset into train-test\n",
        "from sklearn.model_selection import train_test_split\n",
        "X_train, X_test, y_train, y_test = train_test_split(X, y, test_size=0.25, random_state=0)\n",
        "print(X_train)\n",
        "print(X_test)\n",
        "print(y_train)\n",
        "print(y_test)"
      ],
      "execution_count": 8,
      "outputs": [
        {
          "output_type": "stream",
          "text": [
            "[[4.40e+01 3.90e+04]\n",
            " [3.20e+01 1.20e+05]\n",
            " [3.80e+01 5.00e+04]\n",
            " [3.20e+01 1.35e+05]\n",
            " [5.20e+01 2.10e+04]\n",
            " [5.30e+01 1.04e+05]\n",
            " [3.90e+01 4.20e+04]\n",
            " [3.80e+01 6.10e+04]\n",
            " [3.60e+01 5.00e+04]\n",
            " [3.60e+01 6.30e+04]\n",
            " [3.50e+01 2.50e+04]\n",
            " [3.50e+01 5.00e+04]\n",
            " [4.20e+01 7.30e+04]\n",
            " [4.70e+01 4.90e+04]\n",
            " [5.90e+01 2.90e+04]\n",
            " [4.90e+01 6.50e+04]\n",
            " [4.50e+01 1.31e+05]\n",
            " [3.10e+01 8.90e+04]\n",
            " [4.60e+01 8.20e+04]\n",
            " [4.70e+01 5.10e+04]\n",
            " [2.60e+01 1.50e+04]\n",
            " [6.00e+01 1.02e+05]\n",
            " [3.80e+01 1.12e+05]\n",
            " [4.00e+01 1.07e+05]\n",
            " [4.20e+01 5.30e+04]\n",
            " [3.50e+01 5.90e+04]\n",
            " [4.80e+01 4.10e+04]\n",
            " [4.80e+01 1.34e+05]\n",
            " [3.80e+01 1.13e+05]\n",
            " [2.90e+01 1.48e+05]\n",
            " [2.60e+01 1.50e+04]\n",
            " [6.00e+01 4.20e+04]\n",
            " [2.40e+01 1.90e+04]\n",
            " [4.20e+01 1.49e+05]\n",
            " [4.60e+01 9.60e+04]\n",
            " [2.80e+01 5.90e+04]\n",
            " [3.90e+01 9.60e+04]\n",
            " [2.80e+01 8.90e+04]\n",
            " [4.10e+01 7.20e+04]\n",
            " [4.50e+01 2.60e+04]\n",
            " [3.30e+01 6.90e+04]\n",
            " [2.00e+01 8.20e+04]\n",
            " [3.10e+01 7.40e+04]\n",
            " [4.20e+01 8.00e+04]\n",
            " [3.50e+01 7.20e+04]\n",
            " [3.30e+01 1.49e+05]\n",
            " [4.00e+01 7.10e+04]\n",
            " [5.10e+01 1.46e+05]\n",
            " [4.60e+01 7.90e+04]\n",
            " [3.50e+01 7.50e+04]\n",
            " [3.80e+01 5.10e+04]\n",
            " [3.60e+01 7.50e+04]\n",
            " [3.70e+01 7.80e+04]\n",
            " [3.80e+01 6.10e+04]\n",
            " [6.00e+01 1.08e+05]\n",
            " [2.00e+01 8.20e+04]\n",
            " [5.70e+01 7.40e+04]\n",
            " [4.20e+01 6.50e+04]\n",
            " [2.60e+01 8.00e+04]\n",
            " [4.60e+01 1.17e+05]\n",
            " [3.50e+01 6.10e+04]\n",
            " [2.10e+01 6.80e+04]\n",
            " [2.80e+01 4.40e+04]\n",
            " [4.10e+01 8.70e+04]\n",
            " [3.70e+01 3.30e+04]\n",
            " [2.70e+01 9.00e+04]\n",
            " [3.90e+01 4.20e+04]\n",
            " [2.80e+01 1.23e+05]\n",
            " [3.10e+01 1.18e+05]\n",
            " [2.50e+01 8.70e+04]\n",
            " [3.50e+01 7.10e+04]\n",
            " [3.70e+01 7.00e+04]\n",
            " [3.50e+01 3.90e+04]\n",
            " [4.70e+01 2.30e+04]\n",
            " [3.50e+01 1.47e+05]\n",
            " [4.80e+01 1.38e+05]\n",
            " [2.60e+01 8.60e+04]\n",
            " [2.50e+01 7.90e+04]\n",
            " [5.20e+01 1.38e+05]\n",
            " [5.10e+01 2.30e+04]\n",
            " [3.50e+01 6.00e+04]\n",
            " [3.30e+01 1.13e+05]\n",
            " [3.00e+01 1.07e+05]\n",
            " [4.80e+01 3.30e+04]\n",
            " [4.10e+01 8.00e+04]\n",
            " [4.80e+01 9.60e+04]\n",
            " [3.10e+01 1.80e+04]\n",
            " [3.10e+01 7.10e+04]\n",
            " [4.30e+01 1.29e+05]\n",
            " [5.90e+01 7.60e+04]\n",
            " [1.80e+01 4.40e+04]\n",
            " [3.60e+01 1.18e+05]\n",
            " [4.20e+01 9.00e+04]\n",
            " [4.70e+01 3.00e+04]\n",
            " [2.60e+01 4.30e+04]\n",
            " [4.00e+01 7.80e+04]\n",
            " [4.60e+01 5.90e+04]\n",
            " [5.90e+01 4.20e+04]\n",
            " [4.60e+01 7.40e+04]\n",
            " [3.50e+01 9.10e+04]\n",
            " [2.80e+01 5.90e+04]\n",
            " [4.00e+01 5.70e+04]\n",
            " [5.90e+01 1.43e+05]\n",
            " [5.70e+01 2.60e+04]\n",
            " [5.20e+01 3.80e+04]\n",
            " [4.70e+01 1.13e+05]\n",
            " [5.30e+01 1.43e+05]\n",
            " [3.50e+01 2.70e+04]\n",
            " [5.80e+01 1.01e+05]\n",
            " [4.50e+01 4.50e+04]\n",
            " [2.30e+01 8.20e+04]\n",
            " [4.60e+01 2.30e+04]\n",
            " [4.20e+01 6.50e+04]\n",
            " [2.80e+01 8.40e+04]\n",
            " [3.80e+01 5.90e+04]\n",
            " [2.60e+01 8.40e+04]\n",
            " [2.90e+01 2.80e+04]\n",
            " [3.70e+01 7.10e+04]\n",
            " [2.20e+01 5.50e+04]\n",
            " [4.80e+01 3.50e+04]\n",
            " [4.90e+01 2.80e+04]\n",
            " [3.80e+01 6.50e+04]\n",
            " [2.70e+01 1.70e+04]\n",
            " [4.60e+01 2.80e+04]\n",
            " [4.80e+01 1.41e+05]\n",
            " [2.60e+01 1.70e+04]\n",
            " [3.50e+01 9.70e+04]\n",
            " [3.90e+01 5.90e+04]\n",
            " [2.40e+01 2.70e+04]\n",
            " [3.20e+01 1.80e+04]\n",
            " [4.60e+01 8.80e+04]\n",
            " [3.50e+01 5.80e+04]\n",
            " [5.60e+01 6.00e+04]\n",
            " [4.70e+01 3.40e+04]\n",
            " [4.00e+01 7.20e+04]\n",
            " [3.20e+01 1.00e+05]\n",
            " [1.90e+01 2.10e+04]\n",
            " [2.50e+01 9.00e+04]\n",
            " [3.50e+01 8.80e+04]\n",
            " [2.80e+01 3.20e+04]\n",
            " [5.00e+01 2.00e+04]\n",
            " [4.00e+01 5.90e+04]\n",
            " [5.00e+01 4.40e+04]\n",
            " [3.50e+01 7.20e+04]\n",
            " [4.00e+01 1.42e+05]\n",
            " [4.60e+01 3.20e+04]\n",
            " [3.90e+01 7.10e+04]\n",
            " [2.00e+01 7.40e+04]\n",
            " [2.90e+01 7.50e+04]\n",
            " [3.10e+01 7.60e+04]\n",
            " [4.70e+01 2.50e+04]\n",
            " [4.00e+01 6.10e+04]\n",
            " [3.40e+01 1.12e+05]\n",
            " [3.80e+01 8.00e+04]\n",
            " [4.20e+01 7.50e+04]\n",
            " [4.70e+01 4.70e+04]\n",
            " [3.90e+01 7.50e+04]\n",
            " [1.90e+01 2.50e+04]\n",
            " [3.70e+01 8.00e+04]\n",
            " [3.60e+01 6.00e+04]\n",
            " [4.10e+01 5.20e+04]\n",
            " [3.60e+01 1.25e+05]\n",
            " [4.80e+01 2.90e+04]\n",
            " [3.60e+01 1.26e+05]\n",
            " [5.10e+01 1.34e+05]\n",
            " [2.70e+01 5.70e+04]\n",
            " [3.80e+01 7.10e+04]\n",
            " [3.90e+01 6.10e+04]\n",
            " [2.20e+01 2.70e+04]\n",
            " [3.30e+01 6.00e+04]\n",
            " [4.80e+01 7.40e+04]\n",
            " [5.80e+01 2.30e+04]\n",
            " [5.30e+01 7.20e+04]\n",
            " [3.20e+01 1.17e+05]\n",
            " [5.40e+01 7.00e+04]\n",
            " [3.00e+01 8.00e+04]\n",
            " [5.80e+01 9.50e+04]\n",
            " [2.60e+01 5.20e+04]\n",
            " [4.50e+01 7.90e+04]\n",
            " [2.40e+01 5.50e+04]\n",
            " [4.00e+01 7.50e+04]\n",
            " [3.30e+01 2.80e+04]\n",
            " [4.40e+01 1.39e+05]\n",
            " [2.20e+01 1.80e+04]\n",
            " [3.30e+01 5.10e+04]\n",
            " [4.30e+01 1.33e+05]\n",
            " [2.40e+01 3.20e+04]\n",
            " [4.60e+01 2.20e+04]\n",
            " [3.50e+01 5.50e+04]\n",
            " [5.40e+01 1.04e+05]\n",
            " [4.80e+01 1.19e+05]\n",
            " [3.50e+01 5.30e+04]\n",
            " [3.70e+01 1.44e+05]\n",
            " [2.30e+01 6.60e+04]\n",
            " [3.70e+01 1.37e+05]\n",
            " [3.10e+01 5.80e+04]\n",
            " [3.30e+01 4.10e+04]\n",
            " [4.50e+01 2.20e+04]\n",
            " [3.00e+01 1.50e+04]\n",
            " [1.90e+01 1.90e+04]\n",
            " [4.90e+01 7.40e+04]\n",
            " [3.90e+01 1.22e+05]\n",
            " [3.50e+01 7.30e+04]\n",
            " [3.90e+01 7.10e+04]\n",
            " [2.40e+01 2.30e+04]\n",
            " [4.10e+01 7.20e+04]\n",
            " [2.90e+01 8.30e+04]\n",
            " [5.40e+01 2.60e+04]\n",
            " [3.50e+01 4.40e+04]\n",
            " [3.70e+01 7.50e+04]\n",
            " [2.90e+01 4.70e+04]\n",
            " [3.10e+01 6.80e+04]\n",
            " [4.20e+01 5.40e+04]\n",
            " [3.00e+01 1.35e+05]\n",
            " [5.20e+01 1.14e+05]\n",
            " [5.00e+01 3.60e+04]\n",
            " [5.60e+01 1.33e+05]\n",
            " [2.90e+01 6.10e+04]\n",
            " [3.00e+01 8.90e+04]\n",
            " [2.60e+01 1.60e+04]\n",
            " [3.30e+01 3.10e+04]\n",
            " [4.10e+01 7.20e+04]\n",
            " [3.60e+01 3.30e+04]\n",
            " [5.50e+01 1.25e+05]\n",
            " [4.80e+01 1.31e+05]\n",
            " [4.10e+01 7.10e+04]\n",
            " [3.00e+01 6.20e+04]\n",
            " [3.70e+01 7.20e+04]\n",
            " [4.10e+01 6.30e+04]\n",
            " [5.80e+01 4.70e+04]\n",
            " [3.00e+01 1.16e+05]\n",
            " [2.00e+01 4.90e+04]\n",
            " [3.70e+01 7.40e+04]\n",
            " [4.10e+01 5.90e+04]\n",
            " [4.90e+01 8.90e+04]\n",
            " [2.80e+01 7.90e+04]\n",
            " [5.30e+01 8.20e+04]\n",
            " [4.00e+01 5.70e+04]\n",
            " [6.00e+01 3.40e+04]\n",
            " [3.50e+01 1.08e+05]\n",
            " [2.10e+01 7.20e+04]\n",
            " [3.80e+01 7.10e+04]\n",
            " [3.90e+01 1.06e+05]\n",
            " [3.70e+01 5.70e+04]\n",
            " [2.60e+01 7.20e+04]\n",
            " [3.50e+01 2.30e+04]\n",
            " [5.40e+01 1.08e+05]\n",
            " [3.00e+01 1.70e+04]\n",
            " [3.90e+01 1.34e+05]\n",
            " [2.90e+01 4.30e+04]\n",
            " [3.30e+01 4.30e+04]\n",
            " [3.50e+01 3.80e+04]\n",
            " [4.10e+01 4.50e+04]\n",
            " [4.10e+01 7.20e+04]\n",
            " [3.90e+01 1.34e+05]\n",
            " [2.70e+01 1.37e+05]\n",
            " [2.10e+01 1.60e+04]\n",
            " [2.60e+01 3.20e+04]\n",
            " [3.10e+01 6.60e+04]\n",
            " [3.90e+01 7.30e+04]\n",
            " [4.10e+01 7.90e+04]\n",
            " [4.70e+01 5.00e+04]\n",
            " [4.10e+01 3.00e+04]\n",
            " [3.70e+01 9.30e+04]\n",
            " [6.00e+01 4.60e+04]\n",
            " [2.50e+01 2.20e+04]\n",
            " [2.80e+01 3.70e+04]\n",
            " [3.80e+01 5.50e+04]\n",
            " [3.60e+01 5.40e+04]\n",
            " [2.00e+01 3.60e+04]\n",
            " [5.60e+01 1.04e+05]\n",
            " [4.00e+01 5.70e+04]\n",
            " [4.20e+01 1.08e+05]\n",
            " [2.00e+01 2.30e+04]\n",
            " [4.00e+01 6.50e+04]\n",
            " [4.70e+01 2.00e+04]\n",
            " [1.80e+01 8.60e+04]\n",
            " [3.50e+01 7.90e+04]\n",
            " [5.70e+01 3.30e+04]\n",
            " [3.40e+01 7.20e+04]\n",
            " [4.90e+01 3.90e+04]\n",
            " [2.70e+01 3.10e+04]\n",
            " [1.90e+01 7.00e+04]\n",
            " [3.90e+01 7.90e+04]\n",
            " [2.60e+01 8.10e+04]\n",
            " [2.50e+01 8.00e+04]\n",
            " [2.80e+01 8.50e+04]\n",
            " [5.50e+01 3.90e+04]\n",
            " [5.00e+01 8.80e+04]\n",
            " [4.90e+01 8.80e+04]\n",
            " [5.20e+01 1.50e+05]\n",
            " [3.50e+01 6.50e+04]\n",
            " [4.20e+01 5.40e+04]\n",
            " [3.40e+01 4.30e+04]\n",
            " [3.70e+01 5.20e+04]\n",
            " [4.80e+01 3.00e+04]\n",
            " [2.90e+01 4.30e+04]\n",
            " [3.60e+01 5.20e+04]\n",
            " [2.70e+01 5.40e+04]\n",
            " [2.60e+01 1.18e+05]]\n",
            "[[3.00e+01 8.70e+04]\n",
            " [3.80e+01 5.00e+04]\n",
            " [3.50e+01 7.50e+04]\n",
            " [3.00e+01 7.90e+04]\n",
            " [3.50e+01 5.00e+04]\n",
            " [2.70e+01 2.00e+04]\n",
            " [3.10e+01 1.50e+04]\n",
            " [3.60e+01 1.44e+05]\n",
            " [1.80e+01 6.80e+04]\n",
            " [4.70e+01 4.30e+04]\n",
            " [3.00e+01 4.90e+04]\n",
            " [2.80e+01 5.50e+04]\n",
            " [3.70e+01 5.50e+04]\n",
            " [3.90e+01 7.70e+04]\n",
            " [2.00e+01 8.60e+04]\n",
            " [3.20e+01 1.17e+05]\n",
            " [3.70e+01 7.70e+04]\n",
            " [1.90e+01 8.50e+04]\n",
            " [5.50e+01 1.30e+05]\n",
            " [3.50e+01 2.20e+04]\n",
            " [3.50e+01 4.70e+04]\n",
            " [4.70e+01 1.44e+05]\n",
            " [4.10e+01 5.10e+04]\n",
            " [4.70e+01 1.05e+05]\n",
            " [2.30e+01 2.80e+04]\n",
            " [4.90e+01 1.41e+05]\n",
            " [2.80e+01 8.70e+04]\n",
            " [2.90e+01 8.00e+04]\n",
            " [3.70e+01 6.20e+04]\n",
            " [3.20e+01 8.60e+04]\n",
            " [2.10e+01 8.80e+04]\n",
            " [3.70e+01 7.90e+04]\n",
            " [5.70e+01 6.00e+04]\n",
            " [3.70e+01 5.30e+04]\n",
            " [2.40e+01 5.80e+04]\n",
            " [1.80e+01 5.20e+04]\n",
            " [2.20e+01 8.10e+04]\n",
            " [3.40e+01 4.30e+04]\n",
            " [3.10e+01 3.40e+04]\n",
            " [4.90e+01 3.60e+04]\n",
            " [2.70e+01 8.80e+04]\n",
            " [4.10e+01 5.20e+04]\n",
            " [2.70e+01 8.40e+04]\n",
            " [3.50e+01 2.00e+04]\n",
            " [4.30e+01 1.12e+05]\n",
            " [2.70e+01 5.80e+04]\n",
            " [3.70e+01 8.00e+04]\n",
            " [5.20e+01 9.00e+04]\n",
            " [2.60e+01 3.00e+04]\n",
            " [4.90e+01 8.60e+04]\n",
            " [5.70e+01 1.22e+05]\n",
            " [3.40e+01 2.50e+04]\n",
            " [3.50e+01 5.70e+04]\n",
            " [3.40e+01 1.15e+05]\n",
            " [5.90e+01 8.80e+04]\n",
            " [4.50e+01 3.20e+04]\n",
            " [2.90e+01 8.30e+04]\n",
            " [2.60e+01 8.00e+04]\n",
            " [4.90e+01 2.80e+04]\n",
            " [2.30e+01 2.00e+04]\n",
            " [3.20e+01 1.80e+04]\n",
            " [6.00e+01 4.20e+04]\n",
            " [1.90e+01 7.60e+04]\n",
            " [3.60e+01 9.90e+04]\n",
            " [1.90e+01 2.60e+04]\n",
            " [6.00e+01 8.30e+04]\n",
            " [2.40e+01 8.90e+04]\n",
            " [2.70e+01 5.80e+04]\n",
            " [4.00e+01 4.70e+04]\n",
            " [4.20e+01 7.00e+04]\n",
            " [3.20e+01 1.50e+05]\n",
            " [3.50e+01 7.70e+04]\n",
            " [2.20e+01 6.30e+04]\n",
            " [4.50e+01 2.20e+04]\n",
            " [2.70e+01 8.90e+04]\n",
            " [1.80e+01 8.20e+04]\n",
            " [4.20e+01 7.90e+04]\n",
            " [4.00e+01 6.00e+04]\n",
            " [5.30e+01 3.40e+04]\n",
            " [4.70e+01 1.07e+05]\n",
            " [5.80e+01 1.44e+05]\n",
            " [5.90e+01 8.30e+04]\n",
            " [2.40e+01 5.50e+04]\n",
            " [2.60e+01 3.50e+04]\n",
            " [5.80e+01 3.80e+04]\n",
            " [4.20e+01 8.00e+04]\n",
            " [4.00e+01 7.50e+04]\n",
            " [5.90e+01 1.30e+05]\n",
            " [4.60e+01 4.10e+04]\n",
            " [4.10e+01 6.00e+04]\n",
            " [4.20e+01 6.40e+04]\n",
            " [3.70e+01 1.46e+05]\n",
            " [2.30e+01 4.80e+04]\n",
            " [2.50e+01 3.30e+04]\n",
            " [2.40e+01 8.40e+04]\n",
            " [2.70e+01 9.60e+04]\n",
            " [2.30e+01 6.30e+04]\n",
            " [4.80e+01 3.30e+04]\n",
            " [4.80e+01 9.00e+04]\n",
            " [4.20e+01 1.04e+05]]\n",
            "[0 1 0 1 1 1 0 0 0 0 0 0 1 1 1 0 1 0 0 1 0 1 0 1 0 0 1 1 1 1 0 1 0 1 0 0 1\n",
            " 0 0 1 0 0 0 0 0 1 1 1 1 0 0 0 1 0 1 0 1 0 0 1 0 0 0 1 0 0 0 1 1 0 0 1 0 1\n",
            " 1 1 0 0 1 1 0 0 1 1 0 1 0 0 1 1 0 1 1 1 0 0 0 0 0 1 0 0 1 1 1 1 1 0 1 1 0\n",
            " 1 0 0 0 0 0 0 0 1 1 0 0 1 0 0 1 0 0 0 1 0 1 1 0 1 0 0 0 0 1 0 0 0 1 1 0 0\n",
            " 0 0 1 0 1 0 0 0 1 0 0 0 0 1 1 1 0 0 0 0 0 0 1 1 1 1 1 0 1 0 0 0 0 0 1 0 0\n",
            " 0 0 0 0 1 1 0 1 0 1 0 0 1 0 0 0 1 0 0 0 0 0 1 0 0 0 0 0 1 0 1 1 0 0 0 0 0\n",
            " 0 1 1 0 0 0 0 1 0 0 0 0 1 0 1 0 1 0 0 0 1 0 0 0 1 0 1 0 0 0 0 0 1 1 0 0 0\n",
            " 0 0 1 0 1 1 0 0 0 0 0 1 0 1 0 0 1 0 0 1 0 1 0 0 0 0 0 0 1 1 1 1 0 0 0 0 1\n",
            " 0 0 0 0]\n",
            "[0 0 0 0 0 0 0 1 0 0 0 0 0 0 0 0 0 0 1 0 0 1 0 1 0 1 0 0 0 0 0 1 1 0 0 0 0\n",
            " 0 0 1 0 0 0 0 1 0 0 1 0 1 1 0 0 0 1 1 0 0 1 0 0 1 0 1 0 1 0 0 0 0 1 0 0 1\n",
            " 0 0 0 0 1 1 1 0 0 0 1 1 0 1 1 0 0 1 0 0 0 1 0 1 1 1]\n"
          ],
          "name": "stdout"
        }
      ]
    },
    {
      "cell_type": "code",
      "metadata": {
        "id": "zQiVtiCdo7KS"
      },
      "source": [
        "#FeatureScaling\n",
        "from sklearn.preprocessing import StandardScaler\n",
        "sc_X=StandardScaler()\n",
        "X_train = sc_X.fit_transform(X_train)\n",
        "X_test = sc_X.transform(X_test)"
      ],
      "execution_count": 9,
      "outputs": []
    },
    {
      "cell_type": "markdown",
      "metadata": {
        "id": "ok4yTCmzBvSR"
      },
      "source": [
        "**LOGISTIC REG**\n",
        "\n",
        "Probabilistic approach, gives informations\n",
        "about statistical significance of features"
      ]
    },
    {
      "cell_type": "code",
      "metadata": {
        "colab": {
          "base_uri": "https://localhost:8080/"
        },
        "id": "chTa5M-6pBCD",
        "outputId": "eba1f563-5c86-4803-cf18-78218b0b7a2f"
      },
      "source": [
        "#Fitting Logistic Regression to the Training set\n",
        "from sklearn.linear_model import LogisticRegression\n",
        "classifier = LogisticRegression(random_state = 0)\n",
        "classifier.fit(X_train, y_train)"
      ],
      "execution_count": 12,
      "outputs": [
        {
          "output_type": "execute_result",
          "data": {
            "text/plain": [
              "LogisticRegression(C=1.0, class_weight=None, dual=False, fit_intercept=True,\n",
              "                   intercept_scaling=1, l1_ratio=None, max_iter=100,\n",
              "                   multi_class='auto', n_jobs=None, penalty='l2',\n",
              "                   random_state=0, solver='lbfgs', tol=0.0001, verbose=0,\n",
              "                   warm_start=False)"
            ]
          },
          "metadata": {
            "tags": []
          },
          "execution_count": 12
        }
      ]
    },
    {
      "cell_type": "code",
      "metadata": {
        "colab": {
          "base_uri": "https://localhost:8080/"
        },
        "id": "_kdo_50qpNwY",
        "outputId": "42b0b418-f0ce-4726-eea3-32ff0d108bb3"
      },
      "source": [
        "#Predicting test set results\n",
        "y_pred =classifier.predict(X_test)\n",
        "print(y_pred)\n",
        "print(y_test)"
      ],
      "execution_count": 13,
      "outputs": [
        {
          "output_type": "stream",
          "text": [
            "[0 0 0 0 0 0 0 1 0 1 0 0 0 0 0 0 0 0 1 0 0 1 0 1 0 1 0 0 0 0 0 0 1 0 0 0 0\n",
            " 0 0 1 0 0 0 0 1 0 0 1 0 1 1 0 0 0 1 0 0 0 0 0 0 1 0 0 0 1 0 0 0 0 1 0 0 0\n",
            " 0 0 1 0 1 1 1 1 0 0 1 1 0 1 0 0 0 1 0 0 0 0 0 0 1 1]\n",
            "[0 0 0 0 0 0 0 1 0 0 0 0 0 0 0 0 0 0 1 0 0 1 0 1 0 1 0 0 0 0 0 1 1 0 0 0 0\n",
            " 0 0 1 0 0 0 0 1 0 0 1 0 1 1 0 0 0 1 1 0 0 1 0 0 1 0 1 0 1 0 0 0 0 1 0 0 1\n",
            " 0 0 0 0 1 1 1 0 0 0 1 1 0 1 1 0 0 1 0 0 0 1 0 1 1 1]\n"
          ],
          "name": "stdout"
        }
      ]
    },
    {
      "cell_type": "code",
      "metadata": {
        "colab": {
          "base_uri": "https://localhost:8080/"
        },
        "id": "sDMxLBFQpS8C",
        "outputId": "6906399e-fcde-4fcb-e4a5-bf582fa95460"
      },
      "source": [
        "#Making the Confusion Matrix\n",
        "from sklearn.metrics import confusion_matrix\n",
        "cm = confusion_matrix(y_test, y_pred)\n",
        "print(cm)"
      ],
      "execution_count": 14,
      "outputs": [
        {
          "output_type": "stream",
          "text": [
            "[[65  3]\n",
            " [ 8 24]]\n"
          ],
          "name": "stdout"
        }
      ]
    },
    {
      "cell_type": "code",
      "metadata": {
        "colab": {
          "base_uri": "https://localhost:8080/",
          "height": 349
        },
        "id": "pwHpNRETpaln",
        "outputId": "6e9b9e61-d5af-417a-8ce5-fa3bcf5f1a90"
      },
      "source": [
        "# Visualising the Training set results\n",
        "from matplotlib.colors import ListedColormap\n",
        "X_set, y_set = X_train, y_train\n",
        "X1, X2 = np.meshgrid(np.arange(start = X_set[:, 0].min() - 1, stop = X_set[:, 0].max() + 1, step = 0.01),\n",
        "                     np.arange(start = X_set[:, 1].min() - 1, stop = X_set[:, 1].max() + 1, step = 0.01))\n",
        "plt.contourf(X1, X2, classifier.predict(np.array([X1.ravel(), X2.ravel()]).T).reshape(X1.shape),\n",
        "             alpha = 0.75, cmap = ListedColormap(('red', 'green')))\n",
        "plt.xlim(X1.min(), X1.max())\n",
        "plt.ylim(X2.min(), X2.max())\n",
        "for i, j in enumerate(np.unique(y_set)):\n",
        "    plt.scatter(X_set[y_set == j, 0], X_set[y_set == j, 1],\n",
        "                c = ListedColormap(('red', 'green'))(i), label = j)\n",
        "plt.title('Logistic Regression (Training set)')\n",
        "plt.xlabel('Age')\n",
        "plt.ylabel('Estimated Salary')\n",
        "plt.legend()\n",
        "plt.show()"
      ],
      "execution_count": 20,
      "outputs": [
        {
          "output_type": "stream",
          "text": [
            "*c* argument looks like a single numeric RGB or RGBA sequence, which should be avoided as value-mapping will have precedence in case its length matches with *x* & *y*.  Please use the *color* keyword-argument or provide a 2-D array with a single row if you intend to specify the same RGB or RGBA value for all points.\n",
            "*c* argument looks like a single numeric RGB or RGBA sequence, which should be avoided as value-mapping will have precedence in case its length matches with *x* & *y*.  Please use the *color* keyword-argument or provide a 2-D array with a single row if you intend to specify the same RGB or RGBA value for all points.\n"
          ],
          "name": "stderr"
        },
        {
          "output_type": "display_data",
          "data": {
            "image/png": "[encoded data removed]",
            "text/plain": [
              "<Figure size 432x288 with 1 Axes>"
            ]
          },
          "metadata": {
            "tags": [],
            "needs_background": "light"
          }
        }
      ]
    },
    {
      "cell_type": "code",
      "metadata": {
        "colab": {
          "base_uri": "https://localhost:8080/",
          "height": 349
        },
        "id": "W3mbGysIpfRc",
        "outputId": "2229f485-98d6-4205-f5e3-781a93fa5f30"
      },
      "source": [
        "# Visualising the Test set results\n",
        "from matplotlib.colors import ListedColormap\n",
        "X_set, y_set = X_test, y_test\n",
        "X1, X2 = np.meshgrid(np.arange(start = X_set[:, 0].min() - 1, stop = X_set[:, 0].max() + 1, step = 0.01),\n",
        "                     np.arange(start = X_set[:, 1].min() - 1, stop = X_set[:, 1].max() + 1, step = 0.01))\n",
        "plt.contourf(X1, X2, classifier.predict(np.array([X1.ravel(), X2.ravel()]).T).reshape(X1.shape),\n",
        "             alpha = 0.75, cmap = ListedColormap(('red', 'green')))\n",
        "plt.xlim(X1.min(), X1.max())\n",
        "plt.ylim(X2.min(), X2.max())\n",
        "for i, j in enumerate(np.unique(y_set)):\n",
        "    plt.scatter(X_set[y_set == j, 0], X_set[y_set == j, 1],\n",
        "                c = ListedColormap(('red', 'green'))(i), label = j)\n",
        "plt.title('Logistic Regression (Training set)')\n",
        "plt.xlabel('Age')\n",
        "plt.ylabel('Estimated Salary')\n",
        "plt.legend()\n",
        "plt.show()"
      ],
      "execution_count": 21,
      "outputs": [
        {
          "output_type": "stream",
          "text": [
            "*c* argument looks like a single numeric RGB or RGBA sequence, which should be avoided as value-mapping will have precedence in case its length matches with *x* & *y*.  Please use the *color* keyword-argument or provide a 2-D array with a single row if you intend to specify the same RGB or RGBA value for all points.\n",
            "*c* argument looks like a single numeric RGB or RGBA sequence, which should be avoided as value-mapping will have precedence in case its length matches with *x* & *y*.  Please use the *color* keyword-argument or provide a 2-D array with a single row if you intend to specify the same RGB or RGBA value for all points.\n"
          ],
          "name": "stderr"
        },
        {
          "output_type": "display_data",
          "data": {
            "image/png": "[encoded data removed]",
            "text/plain": [
              "<Figure size 432x288 with 1 Axes>"
            ]
          },
          "metadata": {
            "tags": [],
            "needs_background": "light"
          }
        }
      ]
    },
    {
      "cell_type": "markdown",
      "metadata": {
        "id": "BBE_5jNlrT6J"
      },
      "source": [
        "**K-NEARIEST NEIGHBOUR**"
      ]
    },
    {
      "cell_type": "code",
      "metadata": {
        "colab": {
          "base_uri": "https://localhost:8080/"
        },
        "id": "nsu_4KsBpmR6",
        "outputId": "83948a49-5841-4d6c-cf32-48f3a4dd0b57"
      },
      "source": [
        "#Fitting classifier to training set\n",
        "from sklearn.neighbors import KNeighborsClassifier\n",
        "classifier = KNeighborsClassifier(n_neighbors = 5, metric = 'minkowski', p = 2)\n",
        "classifier.fit(X_train, y_train)"
      ],
      "execution_count": 22,
      "outputs": [
        {
          "output_type": "execute_result",
          "data": {
            "text/plain": [
              "KNeighborsClassifier(algorithm='auto', leaf_size=30, metric='minkowski',\n",
              "                     metric_params=None, n_jobs=None, n_neighbors=5, p=2,\n",
              "                     weights='uniform')"
            ]
          },
          "metadata": {
            "tags": []
          },
          "execution_count": 22
        }
      ]
    },
    {
      "cell_type": "code",
      "metadata": {
        "id": "uaWFyCbCqWjn"
      },
      "source": [
        "y_pred = classifier.predict(X_test)"
      ],
      "execution_count": 23,
      "outputs": []
    },
    {
      "cell_type": "code",
      "metadata": {
        "colab": {
          "base_uri": "https://localhost:8080/"
        },
        "id": "zRPNRDeqqaDz",
        "outputId": "c04623f1-8af1-43ee-8aa3-f9944f6e763e"
      },
      "source": [
        "\n",
        "#Making the Confusion Matrix\n",
        "from sklearn.metrics import confusion_matrix\n",
        "cm = confusion_matrix(y_test, y_pred)\n",
        "print(cm)"
      ],
      "execution_count": 24,
      "outputs": [
        {
          "output_type": "stream",
          "text": [
            "[[64  4]\n",
            " [ 3 29]]\n"
          ],
          "name": "stdout"
        }
      ]
    },
    {
      "cell_type": "code",
      "metadata": {
        "colab": {
          "base_uri": "https://localhost:8080/",
          "height": 349
        },
        "id": "m91xlI7cqeQn",
        "outputId": "a0b39683-84c2-4ad9-c2e8-f78fda51a2d8"
      },
      "source": [
        "\n",
        "# Visualising the Training set results\n",
        "from matplotlib.colors import ListedColormap\n",
        "X_set, y_set = X_train, y_train\n",
        "X1, X2 = np.meshgrid(np.arange(start = X_set[:, 0].min() - 1, stop = X_set[:, 0].max() + 1, step = 0.01),\n",
        "                     np.arange(start = X_set[:, 1].min() - 1, stop = X_set[:, 1].max() + 1, step = 0.01))\n",
        "plt.contourf(X1, X2, classifier.predict(np.array([X1.ravel(), X2.ravel()]).T).reshape(X1.shape),\n",
        "             alpha = 0.75, cmap = ListedColormap(('red', 'green')))\n",
        "plt.xlim(X1.min(), X1.max())\n",
        "plt.ylim(X2.min(), X2.max())\n",
        "for i, j in enumerate(np.unique(y_set)):\n",
        "    plt.scatter(X_set[y_set == j, 0], X_set[y_set == j, 1],\n",
        "                c = ListedColormap(('red', 'green'))(i), label = j)\n",
        "plt.title('kNN (Training set)')\n",
        "plt.xlabel('Age')\n",
        "plt.ylabel('Estimated Salary')\n",
        "plt.legend()\n",
        "plt.show()"
      ],
      "execution_count": 25,
      "outputs": [
        {
          "output_type": "stream",
          "text": [
            "*c* argument looks like a single numeric RGB or RGBA sequence, which should be avoided as value-mapping will have precedence in case its length matches with *x* & *y*.  Please use the *color* keyword-argument or provide a 2-D array with a single row if you intend to specify the same RGB or RGBA value for all points.\n",
            "*c* argument looks like a single numeric RGB or RGBA sequence, which should be avoided as value-mapping will have precedence in case its length matches with *x* & *y*.  Please use the *color* keyword-argument or provide a 2-D array with a single row if you intend to specify the same RGB or RGBA value for all points.\n"
          ],
          "name": "stderr"
        },
        {
          "output_type": "display_data",
          "data": {
            "image/png": "[encoded data removed]",
            "text/plain": [
              "<Figure size 432x288 with 1 Axes>"
            ]
          },
          "metadata": {
            "tags": [],
            "needs_background": "light"
          }
        }
      ]
    },
    {
      "cell_type": "code",
      "metadata": {
        "colab": {
          "base_uri": "https://localhost:8080/",
          "height": 349
        },
        "id": "K4K3Jal-qis3",
        "outputId": "813b0651-f3ed-43e5-bfe4-1552974d9173"
      },
      "source": [
        "# Visualising the Test set results\n",
        "from matplotlib.colors import ListedColormap\n",
        "X_set, y_set = X_test, y_test\n",
        "X1, X2 = np.meshgrid(np.arange(start = X_set[:, 0].min() - 1, stop = X_set[:, 0].max() + 1, step = 0.01),\n",
        "                     np.arange(start = X_set[:, 1].min() - 1, stop = X_set[:, 1].max() + 1, step = 0.01))\n",
        "plt.contourf(X1, X2, classifier.predict(np.array([X1.ravel(), X2.ravel()]).T).reshape(X1.shape),\n",
        "             alpha = 0.75, cmap = ListedColormap(('red', 'green')))\n",
        "plt.xlim(X1.min(), X1.max())\n",
        "plt.ylim(X2.min(), X2.max())\n",
        "for i, j in enumerate(np.unique(y_set)):\n",
        "    plt.scatter(X_set[y_set == j, 0], X_set[y_set == j, 1],\n",
        "                c = ListedColormap(('red', 'green'))(i), label = j)\n",
        "plt.title('kNN (Testing set)')\n",
        "plt.xlabel('Age')\n",
        "plt.ylabel('Estimated Salary')\n",
        "plt.legend()\n",
        "plt.show()"
      ],
      "execution_count": 26,
      "outputs": [
        {
          "output_type": "stream",
          "text": [
            "*c* argument looks like a single numeric RGB or RGBA sequence, which should be avoided as value-mapping will have precedence in case its length matches with *x* & *y*.  Please use the *color* keyword-argument or provide a 2-D array with a single row if you intend to specify the same RGB or RGBA value for all points.\n",
            "*c* argument looks like a single numeric RGB or RGBA sequence, which should be avoided as value-mapping will have precedence in case its length matches with *x* & *y*.  Please use the *color* keyword-argument or provide a 2-D array with a single row if you intend to specify the same RGB or RGBA value for all points.\n"
          ],
          "name": "stderr"
        },
        {
          "output_type": "display_data",
          "data": {
            "image/png": "[encoded data removed]",
            "text/plain": [
              "<Figure size 432x288 with 1 Axes>"
            ]
          },
          "metadata": {
            "tags": [],
            "needs_background": "light"
          }
        }
      ]
    },
    {
      "cell_type": "markdown",
      "metadata": {
        "id": "uE1HmhqZrtT_"
      },
      "source": [
        "NAIVE BAYES"
      ]
    },
    {
      "cell_type": "code",
      "metadata": {
        "colab": {
          "base_uri": "https://localhost:8080/"
        },
        "id": "oIC7EBM4qqQ5",
        "outputId": "4bb54e16-9668-469a-de6e-8fdad8db26ad"
      },
      "source": [
        "#Fitting Naive Bayes to the dataset\n",
        "from sklearn.naive_bayes import GaussianNB\n",
        "classifier = GaussianNB()\n",
        "classifier.fit(X_train, y_train)"
      ],
      "execution_count": 27,
      "outputs": [
        {
          "output_type": "execute_result",
          "data": {
            "text/plain": [
              "GaussianNB(priors=None, var_smoothing=1e-09)"
            ]
          },
          "metadata": {
            "tags": []
          },
          "execution_count": 27
        }
      ]
    },
    {
      "cell_type": "code",
      "metadata": {
        "id": "Vt0M9Etzr3XJ"
      },
      "source": [
        "y_pred = classifier.predict(X_test)"
      ],
      "execution_count": 28,
      "outputs": []
    },
    {
      "cell_type": "code",
      "metadata": {
        "colab": {
          "base_uri": "https://localhost:8080/"
        },
        "id": "3jhbTt1mr6tU",
        "outputId": "4a3a1c95-48dc-4c79-b111-a4b61527c6f7"
      },
      "source": [
        "#Making the Confusion Matrix\n",
        "from sklearn.metrics import confusion_matrix\n",
        "cm = confusion_matrix(y_test, y_pred)\n",
        "print(cm)"
      ],
      "execution_count": 29,
      "outputs": [
        {
          "output_type": "stream",
          "text": [
            "[[65  3]\n",
            " [ 7 25]]\n"
          ],
          "name": "stdout"
        }
      ]
    },
    {
      "cell_type": "code",
      "metadata": {
        "colab": {
          "base_uri": "https://localhost:8080/",
          "height": 349
        },
        "id": "PKnQ4Qw0r-I7",
        "outputId": "5e1972c5-9096-492d-9402-90945c2c99dc"
      },
      "source": [
        "# Visualising the Training set results\n",
        "from matplotlib.colors import ListedColormap\n",
        "X_set, y_set = X_train, y_train\n",
        "X1, X2 = np.meshgrid(np.arange(start = X_set[:, 0].min() - 1, stop = X_set[:, 0].max() + 1, step = 0.01),\n",
        "                     np.arange(start = X_set[:, 1].min() - 1, stop = X_set[:, 1].max() + 1, step = 0.01))\n",
        "plt.contourf(X1, X2, classifier.predict(np.array([X1.ravel(), X2.ravel()]).T).reshape(X1.shape),\n",
        "             alpha = 0.75, cmap = ListedColormap(('red', 'green')))\n",
        "plt.xlim(X1.min(), X1.max())\n",
        "plt.ylim(X2.min(), X2.max())\n",
        "for i, j in enumerate(np.unique(y_set)):\n",
        "    plt.scatter(X_set[y_set == j, 0], X_set[y_set == j, 1],\n",
        "                c = ListedColormap(('red', 'green'))(i), label = j)\n",
        "plt.title('Naive Bayes(Training set)')\n",
        "plt.xlabel('Age')\n",
        "plt.ylabel('Estimated Salary')\n",
        "plt.legend()\n",
        "plt.rcParams['figure.figsize'] = (15,10)\n",
        "plt.show()"
      ],
      "execution_count": 30,
      "outputs": [
        {
          "output_type": "stream",
          "text": [
            "*c* argument looks like a single numeric RGB or RGBA sequence, which should be avoided as value-mapping will have precedence in case its length matches with *x* & *y*.  Please use the *color* keyword-argument or provide a 2-D array with a single row if you intend to specify the same RGB or RGBA value for all points.\n",
            "*c* argument looks like a single numeric RGB or RGBA sequence, which should be avoided as value-mapping will have precedence in case its length matches with *x* & *y*.  Please use the *color* keyword-argument or provide a 2-D array with a single row if you intend to specify the same RGB or RGBA value for all points.\n"
          ],
          "name": "stderr"
        },
        {
          "output_type": "display_data",
          "data": {
            "image/png": "[encoded data removed]",
            "text/plain": [
              "<Figure size 432x288 with 1 Axes>"
            ]
          },
          "metadata": {
            "tags": [],
            "needs_background": "light"
          }
        }
      ]
    },
    {
      "cell_type": "code",
      "metadata": {
        "colab": {
          "base_uri": "https://localhost:8080/",
          "height": 675
        },
        "id": "Gt1TRnkDsCVK",
        "outputId": "a0b5e073-dbcb-4a55-da2e-f77882a934f5"
      },
      "source": [
        "# Visualising the Test set results\n",
        "from matplotlib.colors import ListedColormap\n",
        "X_set, y_set = X_test, y_test\n",
        "X1, X2 = np.meshgrid(np.arange(start = X_set[:, 0].min() - 1, stop = X_set[:, 0].max() + 1, step = 0.01),\n",
        "                     np.arange(start = X_set[:, 1].min() - 1, stop = X_set[:, 1].max() + 1, step = 0.01))\n",
        "plt.contourf(X1, X2, classifier.predict(np.array([X1.ravel(), X2.ravel()]).T).reshape(X1.shape),\n",
        "             alpha = 0.75, cmap = ListedColormap(('red', 'green')))\n",
        "plt.xlim(X1.min(), X1.max())\n",
        "plt.ylim(X2.min(), X2.max())\n",
        "for i, j in enumerate(np.unique(y_set)):\n",
        "    plt.scatter(X_set[y_set == j, 0], X_set[y_set == j, 1],\n",
        "                c = ListedColormap(('red', 'green'))(i), label = j)\n",
        "plt.title('Naive Bayes (Testing set)')\n",
        "plt.xlabel('Age')\n",
        "plt.ylabel('Estimated Salary')\n",
        "plt.legend()\n",
        "plt.rcParams['figure.figsize'] = (8, 5)\n",
        "plt.show()"
      ],
      "execution_count": 31,
      "outputs": [
        {
          "output_type": "stream",
          "text": [
            "*c* argument looks like a single numeric RGB or RGBA sequence, which should be avoided as value-mapping will have precedence in case its length matches with *x* & *y*.  Please use the *color* keyword-argument or provide a 2-D array with a single row if you intend to specify the same RGB or RGBA value for all points.\n",
            "*c* argument looks like a single numeric RGB or RGBA sequence, which should be avoided as value-mapping will have precedence in case its length matches with *x* & *y*.  Please use the *color* keyword-argument or provide a 2-D array with a single row if you intend to specify the same RGB or RGBA value for all points.\n"
          ],
          "name": "stderr"
        },
        {
          "output_type": "display_data",
          "data": {
            "image/png": "[encoded data removed]",
            "text/plain": [
              "<Figure size 1080x720 with 1 Axes>"
            ]
          },
          "metadata": {
            "tags": [],
            "needs_background": "light"
          }
        }
      ]
    },
    {
      "cell_type": "markdown",
      "metadata": {
        "id": "6p3hSSSOsQT9"
      },
      "source": [
        "**SVM**"
      ]
    },
    {
      "cell_type": "code",
      "metadata": {
        "colab": {
          "base_uri": "https://localhost:8080/"
        },
        "id": "TO0joc4QsG72",
        "outputId": "641fe44b-e99c-4933-83cf-d968e0563bd8"
      },
      "source": [
        "\n",
        "#Fitting SVM to the dataset\n",
        "from sklearn.svm import SVC\n",
        "classifier = SVC(kernel = 'linear', random_state = 0)\n",
        "classifier.fit(X_train, y_train)"
      ],
      "execution_count": 32,
      "outputs": [
        {
          "output_type": "execute_result",
          "data": {
            "text/plain": [
              "SVC(C=1.0, break_ties=False, cache_size=200, class_weight=None, coef0=0.0,\n",
              "    decision_function_shape='ovr', degree=3, gamma='scale', kernel='linear',\n",
              "    max_iter=-1, probability=False, random_state=0, shrinking=True, tol=0.001,\n",
              "    verbose=False)"
            ]
          },
          "metadata": {
            "tags": []
          },
          "execution_count": 32
        }
      ]
    },
    {
      "cell_type": "code",
      "metadata": {
        "id": "wuTSsZW4sYCu"
      },
      "source": [
        "y_pred = classifier.predict(X_test)"
      ],
      "execution_count": 33,
      "outputs": []
    },
    {
      "cell_type": "code",
      "metadata": {
        "colab": {
          "base_uri": "https://localhost:8080/"
        },
        "id": "3146cC7Esadb",
        "outputId": "7e0da413-cddf-43b1-c78d-d5b49df35095"
      },
      "source": [
        "print(y_pred)\n",
        "print(y_test)"
      ],
      "execution_count": 34,
      "outputs": [
        {
          "output_type": "stream",
          "text": [
            "[0 0 0 0 0 0 0 1 0 0 0 0 0 0 0 0 0 0 1 0 0 1 0 1 0 1 0 0 0 0 0 0 1 0 0 0 0\n",
            " 0 0 1 0 0 0 0 1 0 0 1 0 1 1 0 0 0 1 0 0 0 0 0 0 1 0 0 0 1 0 0 0 0 1 0 0 0\n",
            " 0 0 1 0 1 1 1 1 0 0 1 1 0 1 0 0 0 1 0 0 0 0 0 0 1 1]\n",
            "[0 0 0 0 0 0 0 1 0 0 0 0 0 0 0 0 0 0 1 0 0 1 0 1 0 1 0 0 0 0 0 1 1 0 0 0 0\n",
            " 0 0 1 0 0 0 0 1 0 0 1 0 1 1 0 0 0 1 1 0 0 1 0 0 1 0 1 0 1 0 0 0 0 1 0 0 1\n",
            " 0 0 0 0 1 1 1 0 0 0 1 1 0 1 1 0 0 1 0 0 0 1 0 1 1 1]\n"
          ],
          "name": "stdout"
        }
      ]
    },
    {
      "cell_type": "code",
      "metadata": {
        "colab": {
          "base_uri": "https://localhost:8080/"
        },
        "id": "BLlkZzmSsdpZ",
        "outputId": "8fbfafbf-16a8-45dc-b685-4dc65d3205a9"
      },
      "source": [
        "\n",
        "#Making the Confusion Matrix\n",
        "from sklearn.metrics import confusion_matrix\n",
        "cm = confusion_matrix(y_test, y_pred)\n",
        "print(cm)"
      ],
      "execution_count": 35,
      "outputs": [
        {
          "output_type": "stream",
          "text": [
            "[[66  2]\n",
            " [ 8 24]]\n"
          ],
          "name": "stdout"
        }
      ]
    },
    {
      "cell_type": "code",
      "metadata": {
        "colab": {
          "base_uri": "https://localhost:8080/",
          "height": 404
        },
        "id": "2x9aRu9dsgYy",
        "outputId": "160997a7-6d66-4f5e-95c5-f00d272347a7"
      },
      "source": [
        "# Visualising the Training set results\n",
        "from matplotlib.colors import ListedColormap\n",
        "X_set, y_set = X_train, y_train\n",
        "X1, X2 = np.meshgrid(np.arange(start = X_set[:, 0].min() - 1, stop = X_set[:, 0].max() + 1, step = 0.01),\n",
        "                     np.arange(start = X_set[:, 1].min() - 1, stop = X_set[:, 1].max() + 1, step = 0.01))\n",
        "plt.contourf(X1, X2, classifier.predict(np.array([X1.ravel(), X2.ravel()]).T).reshape(X1.shape),\n",
        "             alpha = 0.75, cmap = ListedColormap(('red', 'green')))\n",
        "plt.xlim(X1.min(), X1.max())\n",
        "plt.ylim(X2.min(), X2.max())\n",
        "for i, j in enumerate(np.unique(y_set)):\n",
        "    plt.scatter(X_set[y_set == j, 0], X_set[y_set == j, 1],\n",
        "                c = ListedColormap(('red', 'green'))(i), label = j)\n",
        "plt.title('SVM (Training set)')\n",
        "plt.xlabel('Age')\n",
        "plt.ylabel('Estimated Salary')\n",
        "plt.legend()\n",
        "plt.rcParams['figure.figsize'] = (8,5)\n",
        "plt.show()"
      ],
      "execution_count": 36,
      "outputs": [
        {
          "output_type": "stream",
          "text": [
            "*c* argument looks like a single numeric RGB or RGBA sequence, which should be avoided as value-mapping will have precedence in case its length matches with *x* & *y*.  Please use the *color* keyword-argument or provide a 2-D array with a single row if you intend to specify the same RGB or RGBA value for all points.\n",
            "*c* argument looks like a single numeric RGB or RGBA sequence, which should be avoided as value-mapping will have precedence in case its length matches with *x* & *y*.  Please use the *color* keyword-argument or provide a 2-D array with a single row if you intend to specify the same RGB or RGBA value for all points.\n"
          ],
          "name": "stderr"
        },
        {
          "output_type": "display_data",
          "data": {
            "image/png": "[encoded data removed]",
            "text/plain": [
              "<Figure size 576x360 with 1 Axes>"
            ]
          },
          "metadata": {
            "tags": [],
            "needs_background": "light"
          }
        }
      ]
    },
    {
      "cell_type": "code",
      "metadata": {
        "colab": {
          "base_uri": "https://localhost:8080/",
          "height": 404
        },
        "id": "1sDPPvH6si2z",
        "outputId": "697fdac8-ab00-4420-c566-e734d7d62470"
      },
      "source": [
        "# Visualising the Test set results\n",
        "from matplotlib.colors import ListedColormap\n",
        "X_set, y_set = X_test, y_test\n",
        "X1, X2 = np.meshgrid(np.arange(start = X_set[:, 0].min() - 1, stop = X_set[:, 0].max() + 1, step = 0.01),\n",
        "                     np.arange(start = X_set[:, 1].min() - 1, stop = X_set[:, 1].max() + 1, step = 0.01))\n",
        "plt.contourf(X1, X2, classifier.predict(np.array([X1.ravel(), X2.ravel()]).T).reshape(X1.shape),\n",
        "             alpha = 0.75, cmap = ListedColormap(('red', 'green')))\n",
        "plt.xlim(X1.min(), X1.max())\n",
        "plt.ylim(X2.min(), X2.max())\n",
        "for i, j in enumerate(np.unique(y_set)):\n",
        "    plt.scatter(X_set[y_set == j, 0], X_set[y_set == j, 1],\n",
        "                c = ListedColormap(('red', 'green'))(i), label = j)\n",
        "plt.title('SVM (Testing set)')\n",
        "plt.xlabel('Age')\n",
        "plt.ylabel('Estimated Salary')\n",
        "plt.legend()\n",
        "plt.rcParams['figure.figsize'] = (8, 5)\n",
        "plt.show()"
      ],
      "execution_count": 37,
      "outputs": [
        {
          "output_type": "stream",
          "text": [
            "*c* argument looks like a single numeric RGB or RGBA sequence, which should be avoided as value-mapping will have precedence in case its length matches with *x* & *y*.  Please use the *color* keyword-argument or provide a 2-D array with a single row if you intend to specify the same RGB or RGBA value for all points.\n",
            "*c* argument looks like a single numeric RGB or RGBA sequence, which should be avoided as value-mapping will have precedence in case its length matches with *x* & *y*.  Please use the *color* keyword-argument or provide a 2-D array with a single row if you intend to specify the same RGB or RGBA value for all points.\n"
          ],
          "name": "stderr"
        },
        {
          "output_type": "display_data",
          "data": {
            "image/png": "[encoded data removed]",
            "text/plain": [
              "<Figure size 576x360 with 1 Axes>"
            ]
          },
          "metadata": {
            "tags": [],
            "needs_background": "light"
          }
        }
      ]
    },
    {
      "cell_type": "markdown",
      "metadata": {
        "id": "rAIm4yh-soOD"
      },
      "source": [
        "**DECESION TREE**"
      ]
    },
    {
      "cell_type": "code",
      "metadata": {
        "colab": {
          "base_uri": "https://localhost:8080/"
        },
        "id": "Cuuv25uCsnA3",
        "outputId": "9e19fffb-6ffe-4a27-c674-99e233ea862b"
      },
      "source": [
        "\n",
        "#Fitting Decision Trees to the dataset\n",
        "from sklearn.tree import DecisionTreeClassifier\n",
        "classifier = DecisionTreeClassifier(criterion = 'entropy', random_state = 0) \n",
        "classifier.fit(X_train, y_train)"
      ],
      "execution_count": 38,
      "outputs": [
        {
          "output_type": "execute_result",
          "data": {
            "text/plain": [
              "DecisionTreeClassifier(ccp_alpha=0.0, class_weight=None, criterion='entropy',\n",
              "                       max_depth=None, max_features=None, max_leaf_nodes=None,\n",
              "                       min_impurity_decrease=0.0, min_impurity_split=None,\n",
              "                       min_samples_leaf=1, min_samples_split=2,\n",
              "                       min_weight_fraction_leaf=0.0, presort='deprecated',\n",
              "                       random_state=0, splitter='best')"
            ]
          },
          "metadata": {
            "tags": []
          },
          "execution_count": 38
        }
      ]
    },
    {
      "cell_type": "code",
      "metadata": {
        "colab": {
          "base_uri": "https://localhost:8080/"
        },
        "id": "L712vJdwsyUi",
        "outputId": "02f00402-8a30-4919-c6ee-4e96e540efc7"
      },
      "source": [
        "y_pred = classifier.predict(X_test)\n",
        "\n",
        "#Making the Confusion Matrix\n",
        "from sklearn.metrics import confusion_matrix\n",
        "cm = confusion_matrix(y_test, y_pred)\n",
        "print(cm)"
      ],
      "execution_count": 39,
      "outputs": [
        {
          "output_type": "stream",
          "text": [
            "[[62  6]\n",
            " [ 3 29]]\n"
          ],
          "name": "stdout"
        }
      ]
    },
    {
      "cell_type": "code",
      "metadata": {
        "colab": {
          "base_uri": "https://localhost:8080/",
          "height": 404
        },
        "id": "AEzDySezs3JI",
        "outputId": "b4c2d838-2152-4078-a39f-e458f2cb4098"
      },
      "source": [
        "# Visualising the Training set results\n",
        "from matplotlib.colors import ListedColormap\n",
        "X_set, y_set = X_train, y_train\n",
        "X1, X2 = np.meshgrid(np.arange(start = X_set[:, 0].min() - 1, stop = X_set[:, 0].max() + 1, step = 0.01),\n",
        "                     np.arange(start = X_set[:, 1].min() - 1, stop = X_set[:, 1].max() + 1, step = 0.01))\n",
        "plt.contourf(X1, X2, classifier.predict(np.array([X1.ravel(), X2.ravel()]).T).reshape(X1.shape),\n",
        "             alpha = 0.75, cmap = ListedColormap(('red', 'green')))\n",
        "plt.xlim(X1.min(), X1.max())\n",
        "plt.ylim(X2.min(), X2.max())\n",
        "for i, j in enumerate(np.unique(y_set)):\n",
        "    plt.scatter(X_set[y_set == j, 0], X_set[y_set == j, 1],\n",
        "                c = ListedColormap(('red', 'green'))(i), label = j)\n",
        "plt.title('Decision Tree(Training set)')\n",
        "plt.xlabel('Age')\n",
        "plt.ylabel('Estimated Salary')\n",
        "plt.legend()\n",
        "plt.rcParams['figure.figsize'] = (20,15)\n",
        "plt.show()"
      ],
      "execution_count": 40,
      "outputs": [
        {
          "output_type": "stream",
          "text": [
            "*c* argument looks like a single numeric RGB or RGBA sequence, which should be avoided as value-mapping will have precedence in case its length matches with *x* & *y*.  Please use the *color* keyword-argument or provide a 2-D array with a single row if you intend to specify the same RGB or RGBA value for all points.\n",
            "*c* argument looks like a single numeric RGB or RGBA sequence, which should be avoided as value-mapping will have precedence in case its length matches with *x* & *y*.  Please use the *color* keyword-argument or provide a 2-D array with a single row if you intend to specify the same RGB or RGBA value for all points.\n"
          ],
          "name": "stderr"
        },
        {
          "output_type": "display_data",
          "data": {
            "image/png": "[encoded data removed]",
            "text/plain": [
              "<Figure size 576x360 with 1 Axes>"
            ]
          },
          "metadata": {
            "tags": [],
            "needs_background": "light"
          }
        }
      ]
    },
    {
      "cell_type": "code",
      "metadata": {
        "colab": {
          "base_uri": "https://localhost:8080/",
          "height": 947
        },
        "id": "xaJWZmyVs6t7",
        "outputId": "77fcb2ba-c480-4a8e-ee2d-ba25dba8e622"
      },
      "source": [
        "# Visualising the Test set results\n",
        "from matplotlib.colors import ListedColormap\n",
        "X_set, y_set = X_test, y_test\n",
        "X1, X2 = np.meshgrid(np.arange(start = X_set[:, 0].min() - 1, stop = X_set[:, 0].max() + 1, step = 0.01),\n",
        "                     np.arange(start = X_set[:, 1].min() - 1, stop = X_set[:, 1].max() + 1, step = 0.01))\n",
        "plt.contourf(X1, X2, classifier.predict(np.array([X1.ravel(), X2.ravel()]).T).reshape(X1.shape),\n",
        "             alpha = 0.75, cmap = ListedColormap(('red', 'green')))\n",
        "plt.xlim(X1.min(), X1.max())\n",
        "plt.ylim(X2.min(), X2.max())\n",
        "for i, j in enumerate(np.unique(y_set)):\n",
        "    plt.scatter(X_set[y_set == j, 0], X_set[y_set == j, 1],\n",
        "                c = ListedColormap(('red', 'green'))(i), label = j)\n",
        "plt.title('Decision Tree (Testing set)')\n",
        "plt.xlabel('Age')\n",
        "plt.ylabel('Estimated Salary')\n",
        "plt.legend()\n",
        "plt.rcParams['figure.figsize'] = (8, 5)\n",
        "plt.show()"
      ],
      "execution_count": 41,
      "outputs": [
        {
          "output_type": "stream",
          "text": [
            "*c* argument looks like a single numeric RGB or RGBA sequence, which should be avoided as value-mapping will have precedence in case its length matches with *x* & *y*.  Please use the *color* keyword-argument or provide a 2-D array with a single row if you intend to specify the same RGB or RGBA value for all points.\n",
            "*c* argument looks like a single numeric RGB or RGBA sequence, which should be avoided as value-mapping will have precedence in case its length matches with *x* & *y*.  Please use the *color* keyword-argument or provide a 2-D array with a single row if you intend to specify the same RGB or RGBA value for all points.\n"
          ],
          "name": "stderr"
        },
        {
          "output_type": "display_data",
          "data": {
            "image/png": "[encoded data removed]",
            "text/plain": [
              "<Figure size 1440x1080 with 1 Axes>"
            ]
          },
          "metadata": {
            "tags": [],
            "needs_background": "light"
          }
        }
      ]
    },
    {
      "cell_type": "markdown",
      "metadata": {
        "id": "g5d0yEOKtFJW"
      },
      "source": [
        "**RANDOM FOREST**"
      ]
    },
    {
      "cell_type": "code",
      "metadata": {
        "colab": {
          "base_uri": "https://localhost:8080/"
        },
        "id": "jUQVfQE4s_Gv",
        "outputId": "d210e2d2-cc02-4c94-80a0-7be88276a793"
      },
      "source": [
        "#Fitting Random Forest Classifier to the dataset\n",
        "from sklearn.ensemble import RandomForestClassifier\n",
        "classifier = RandomForestClassifier(n_estimators = 10, criterion = 'entropy', random_state = 0) \n",
        "classifier.fit(X_train, y_train)"
      ],
      "execution_count": 42,
      "outputs": [
        {
          "output_type": "execute_result",
          "data": {
            "text/plain": [
              "RandomForestClassifier(bootstrap=True, ccp_alpha=0.0, class_weight=None,\n",
              "                       criterion='entropy', max_depth=None, max_features='auto',\n",
              "                       max_leaf_nodes=None, max_samples=None,\n",
              "                       min_impurity_decrease=0.0, min_impurity_split=None,\n",
              "                       min_samples_leaf=1, min_samples_split=2,\n",
              "                       min_weight_fraction_leaf=0.0, n_estimators=10,\n",
              "                       n_jobs=None, oob_score=False, random_state=0, verbose=0,\n",
              "                       warm_start=False)"
            ]
          },
          "metadata": {
            "tags": []
          },
          "execution_count": 42
        }
      ]
    },
    {
      "cell_type": "code",
      "metadata": {
        "colab": {
          "base_uri": "https://localhost:8080/"
        },
        "id": "ZpDqLMbqtL_A",
        "outputId": "f3793296-1f34-4416-d70d-c00ce5e35267"
      },
      "source": [
        "\n",
        "y_pred = classifier.predict(X_test)\n",
        "\n",
        "#Making the Confusion Matrix\n",
        "from sklearn.metrics import confusion_matrix\n",
        "cm = confusion_matrix(y_test, y_pred)\n",
        "print(cm)"
      ],
      "execution_count": 43,
      "outputs": [
        {
          "output_type": "stream",
          "text": [
            "[[63  5]\n",
            " [ 4 28]]\n"
          ],
          "name": "stdout"
        }
      ]
    },
    {
      "cell_type": "code",
      "metadata": {
        "colab": {
          "base_uri": "https://localhost:8080/",
          "height": 404
        },
        "id": "bvACa-b-tPRT",
        "outputId": "8774d24f-ba61-46e4-c0c9-c93330d9d1ea"
      },
      "source": [
        "# Visualising the Training set results\n",
        "from matplotlib.colors import ListedColormap\n",
        "X_set, y_set = X_train, y_train\n",
        "X1, X2 = np.meshgrid(np.arange(start = X_set[:, 0].min() - 1, stop = X_set[:, 0].max() + 1, step = 0.01),\n",
        "                     np.arange(start = X_set[:, 1].min() - 1, stop = X_set[:, 1].max() + 1, step = 0.01))\n",
        "plt.contourf(X1, X2, classifier.predict(np.array([X1.ravel(), X2.ravel()]).T).reshape(X1.shape),\n",
        "             alpha = 0.75, cmap = ListedColormap(('red', 'green')))\n",
        "plt.xlim(X1.min(), X1.max())\n",
        "plt.ylim(X2.min(), X2.max())\n",
        "for i, j in enumerate(np.unique(y_set)):\n",
        "    plt.scatter(X_set[y_set == j, 0], X_set[y_set == j, 1],\n",
        "                c = ListedColormap(('red', 'green'))(i), label = j)\n",
        "plt.title('Random Forest Classification(Training set)')\n",
        "plt.xlabel('Age')\n",
        "plt.ylabel('Estimated Salary')\n",
        "plt.legend()\n",
        "plt.rcParams['figure.figsize'] = (8,5)\n",
        "plt.show()"
      ],
      "execution_count": 44,
      "outputs": [
        {
          "output_type": "stream",
          "text": [
            "*c* argument looks like a single numeric RGB or RGBA sequence, which should be avoided as value-mapping will have precedence in case its length matches with *x* & *y*.  Please use the *color* keyword-argument or provide a 2-D array with a single row if you intend to specify the same RGB or RGBA value for all points.\n",
            "*c* argument looks like a single numeric RGB or RGBA sequence, which should be avoided as value-mapping will have precedence in case its length matches with *x* & *y*.  Please use the *color* keyword-argument or provide a 2-D array with a single row if you intend to specify the same RGB or RGBA value for all points.\n"
          ],
          "name": "stderr"
        },
        {
          "output_type": "display_data",
          "data": {
            "image/png": "[encoded data removed]",
            "text/plain": [
              "<Figure size 576x360 with 1 Axes>"
            ]
          },
          "metadata": {
            "tags": [],
            "needs_background": "light"
          }
        }
      ]
    },
    {
      "cell_type": "code",
      "metadata": {
        "colab": {
          "base_uri": "https://localhost:8080/",
          "height": 404
        },
        "id": "vGnZeHiLtTWD",
        "outputId": "87385d55-68f2-4e2d-efb4-0f2b7b107edf"
      },
      "source": [
        "# Visualising the Test set results\n",
        "from matplotlib.colors import ListedColormap\n",
        "X_set, y_set = X_test, y_test\n",
        "X1, X2 = np.meshgrid(np.arange(start = X_set[:, 0].min() - 1, stop = X_set[:, 0].max() + 1, step = 0.01),\n",
        "                     np.arange(start = X_set[:, 1].min() - 1, stop = X_set[:, 1].max() + 1, step = 0.01))\n",
        "plt.contourf(X1, X2, classifier.predict(np.array([X1.ravel(), X2.ravel()]).T).reshape(X1.shape),\n",
        "             alpha = 0.75, cmap = ListedColormap(('red', 'green')))\n",
        "plt.xlim(X1.min(), X1.max())\n",
        "plt.ylim(X2.min(), X2.max())\n",
        "for i, j in enumerate(np.unique(y_set)):\n",
        "    plt.scatter(X_set[y_set == j, 0], X_set[y_set == j, 1],\n",
        "                c = ListedColormap(('red', 'green'))(i), label = j)\n",
        "plt.title('Random Forest Classification(Testing set)')\n",
        "plt.xlabel('Age')\n",
        "plt.ylabel('Estimated Salary')\n",
        "plt.legend()\n",
        "plt.rcParams['figure.figsize'] = (8, 5)\n",
        "plt.show()"
      ],
      "execution_count": 45,
      "outputs": [
        {
          "output_type": "stream",
          "text": [
            "*c* argument looks like a single numeric RGB or RGBA sequence, which should be avoided as value-mapping will have precedence in case its length matches with *x* & *y*.  Please use the *color* keyword-argument or provide a 2-D array with a single row if you intend to specify the same RGB or RGBA value for all points.\n",
            "*c* argument looks like a single numeric RGB or RGBA sequence, which should be avoided as value-mapping will have precedence in case its length matches with *x* & *y*.  Please use the *color* keyword-argument or provide a 2-D array with a single row if you intend to specify the same RGB or RGBA value for all points.\n"
          ],
          "name": "stderr"
        },
        {
          "output_type": "display_data",
          "data": {
            "image/png": "[encoded data removed]",
            "text/plain": [
              "<Figure size 576x360 with 1 Axes>"
            ]
          },
          "metadata": {
            "tags": [],
            "needs_background": "light"
          }
        }
      ]
    },
    {
      "cell_type": "code",
      "metadata": {
        "id": "VtrBQvpHtW3V"
      },
      "source": [
        ""
      ],
      "execution_count": null,
      "outputs": []
    }
  ]
}